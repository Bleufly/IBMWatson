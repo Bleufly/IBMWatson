{
  "metadata": {
    "language_info": {
      "codemirror_mode": {
        "name": "python",
        "version": 3
      },
      "file_extension": ".py",
      "mimetype": "text/x-python",
      "name": "python",
      "nbconvert_exporter": "python",
      "pygments_lexer": "ipython3",
      "version": "3.8"
    },
    "kernelspec": {
      "name": "python",
      "display_name": "Pyolite",
      "language": "python"
    }
  },
  "nbformat_minor": 4,
  "nbformat": 4,
  "cells": [
    {
      "cell_type": "markdown",
      "source": "# My Jupyter Notebook on IBM Watson Studio",
      "metadata": {}
    },
    {
      "cell_type": "markdown",
      "source": "**Joy Furbush**\n\n\nClinical Data Manager",
      "metadata": {}
    },
    {
      "cell_type": "markdown",
      "source": "*I am interested in data science as I am looking to explore the scalability and adaptability of information, in addition to how information is gleaned from datasets, interpreting that information and what that means. The ability potentially predict outcomes, understand trends/pitfalls, and understand machine learning/metadata feels extremely valuable. I am looking to potentially make a move into the data science department of my clinical research industry, as my initial passion for medicine/healthcare is still strong*",
      "metadata": {}
    },
    {
      "cell_type": "markdown",
      "source": "### The below cell (5) should execute and display as an output:",
      "metadata": {}
    },
    {
      "cell_type": "code",
      "source": "print('Hello, world!')",
      "metadata": {
        "trusted": true
      },
      "execution_count": 2,
      "outputs": [
        {
          "name": "stdout",
          "text": "Hello, world!\n",
          "output_type": "stream"
        }
      ]
    },
    {
      "cell_type": "markdown",
      "source": "___\n\n1. Raccoons are trash pandas\n2. Snakes are nope ropes\n⋅⋅* smaller ones are judgey shoelaces \n\n~~Scratched.~~",
      "metadata": {}
    },
    {
      "cell_type": "code",
      "source": "",
      "metadata": {},
      "execution_count": null,
      "outputs": []
    }
  ]
}